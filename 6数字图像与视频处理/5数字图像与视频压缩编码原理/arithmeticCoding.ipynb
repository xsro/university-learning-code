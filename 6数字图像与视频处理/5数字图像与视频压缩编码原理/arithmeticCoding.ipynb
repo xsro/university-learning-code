{
 "cells": [
  {
   "cell_type": "markdown",
   "metadata": {},
   "source": [
    "# 算术编码\r\n",
    "\r\n",
    "- 熵编码：无失真编码，无损编码，信息保持编码\r\n",
    "    - 游程编码Run Length Encoding RLE\r\n",
    "    - 哈夫曼编码Huffman ， a kind of Variable Length Coding\r\n",
    "    - 算术编码"
   ]
  },
  {
   "cell_type": "code",
   "execution_count": 8,
   "metadata": {},
   "outputs": [],
   "source": [
    "def encoder(singal, singal_dict):\r\n",
    "    Low = 0\r\n",
    "    High = 1\r\n",
    "    for s in singal:\r\n",
    "        CodeRange = High - Low\r\n",
    "        High = Low + CodeRange * singal_dict[s][1]\r\n",
    "        Low = Low + CodeRange * singal_dict[s][0]\r\n",
    "    return (Low,High)\r\n",
    "\r\n",
    "def decoder(encoded_number, singal_dict, singal_length):\r\n",
    "    singal = []\r\n",
    "    while singal_length:\r\n",
    "        for k, v in singal_dict.items():\r\n",
    "            if v[0] <= encoded_number < v[1]:\r\n",
    "                singal.append(k)\r\n",
    "                range = v[1] - v[0]\r\n",
    "                encoded_number -= v[0]\r\n",
    "                encoded_number /= range\r\n",
    "                break\r\n",
    "        singal_length -= 1\r\n",
    "    return singal"
   ]
  },
  {
   "cell_type": "markdown",
   "metadata": {},
   "source": [
    "## 编码实例\r\n",
    "\r\n",
    "使用书P156例5-5的数据进行测试"
   ]
  },
  {
   "cell_type": "code",
   "execution_count": 11,
   "metadata": {},
   "outputs": [
    {
     "name": "stdout",
     "output_type": "stream",
     "text": [
      "编码输出区间为[0.773920,0.774880)，可以输出low=0.773920\n",
      "对编码结果解码为： ['d', 'a', 'c', 'a', 'b']\n"
     ]
    }
   ],
   "source": [
    "singal_dict = {}\r\n",
    "singal_dict['a'] = (0, 0.4)\r\n",
    "singal_dict['b'] = (0.4, 0.6)\r\n",
    "singal_dict['c'] = (0.6, 0.7)\r\n",
    "singal_dict['d'] = (0.7, 1)\r\n",
    "singal = 'dacab'\r\n",
    "low,high = encoder(singal, singal_dict)\r\n",
    "#python 浮点数计算不准确，这里使用low会误码\r\n",
    "#https://www.programiz.com/python-programming/numbers\r\n",
    "singal_rec = decoder(0.773920, singal_dict, len(singal))\r\n",
    "print('编码输出区间为[%f,%f)，可以输出low=%f' % (low,high,low))\r\n",
    "print('对编码结果解码为：',singal_rec)"
   ]
  },
  {
   "cell_type": "code",
   "execution_count": 6,
   "metadata": {},
   "outputs": [],
   "source": [
    "def dec2bin(x,y):\r\n",
    "    x -= int(x)\r\n",
    "    y -= int(y)\r\n",
    "    bins = []\r\n",
    "    while x and y:\r\n",
    "        x *= 2;y *= 2\r\n",
    "        binx = 1 if x>=1. else 0\r\n",
    "        biny = 1 if y>=1. else 0\r\n",
    "        if binx!=biny:\r\n",
    "            bins.append(1)\r\n",
    "            break\r\n",
    "        bins.append(binx)\r\n",
    "        x -= int(x);y -= int(y)\r\n",
    "    return bins\r\n",
    "def bin2dec(b):\r\n",
    "    d = 0\r\n",
    "    for i, x in enumerate(b):\r\n",
    "        d += 2**(-i-1)*x\r\n",
    "    return d\r\n"
   ]
  },
  {
   "cell_type": "code",
   "execution_count": 7,
   "metadata": {},
   "outputs": [
    {
     "name": "stdout",
     "output_type": "stream",
     "text": [
      "取区间中转化为二进制后最短的数值为 0.1100011001\n",
      "其十进制为: 0.774414\n",
      "对编码结果解码为： ['d', 'a', 'c', 'a', 'b']\n"
     ]
    }
   ],
   "source": [
    "code2=dec2bin(low,high)\r\n",
    "code2dec=bin2dec(code2)\r\n",
    "singal_rec2 = decoder(code2dec, singal_dict, len(singal))\r\n",
    "\r\n",
    "binstr=\"0.\"\r\n",
    "for c in code2:\r\n",
    "    binstr+=str(c)\r\n",
    "print('取区间中转化为二进制后最短的数值为',binstr)\r\n",
    "print('其十进制为: %f' % (code2dec))\r\n",
    "print('对编码结果解码为：',singal_rec2)"
   ]
  },
  {
   "cell_type": "markdown",
   "metadata": {},
   "source": [
    "## 参考链接\r\n",
    "\r\n",
    "- [算数编码python实现](https://blog.csdn.net/qq_33126189/article/details/104329374) a copy of code in this article is in [./arithmetic.py](./arithmetic.py)"
   ]
  }
 ],
 "metadata": {
  "interpreter": {
   "hash": "004de6046f1b3d314f33fdb43a2dc798b2646e5600efd8df5066c8b63a00ff6d"
  },
  "kernelspec": {
   "display_name": "Python 3.8.0 64-bit",
   "name": "python3"
  },
  "language_info": {
   "name": "python",
   "version": ""
  },
  "orig_nbformat": 4
 },
 "nbformat": 4,
 "nbformat_minor": 2
}