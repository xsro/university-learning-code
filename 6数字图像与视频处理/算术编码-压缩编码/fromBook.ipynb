{
 "metadata": {
  "language_info": {
   "codemirror_mode": {
    "name": "ipython",
    "version": 3
   },
   "file_extension": ".py",
   "mimetype": "text/x-python",
   "name": "python",
   "nbconvert_exporter": "python",
   "pygments_lexer": "ipython3",
   "version": "3.9.2-final"
  },
  "orig_nbformat": 2,
  "kernelspec": {
   "name": "python3",
   "display_name": "Python 3.9.2 64-bit ('fuzzy': conda)",
   "metadata": {
    "interpreter": {
     "hash": "9209249ba38b871c24b910befe1cbf9d613326b0015746080fb2897037e426e8"
    }
   }
  }
 },
 "nbformat": 4,
 "nbformat_minor": 2,
 "cells": [
  {
   "source": [
    "# 算术编码\n",
    "\n",
    "按照卢官民教材传输符号序列CADACDB\n",
    "\n",
    "如果安装如下编码\n",
    "\n",
    "|A|B|C|D|\n",
    "|---|---|---|---|\n",
    "|00|01|10|11|\n",
    "\n",
    "那么编码需要7*2个字符"
   ],
   "cell_type": "markdown",
   "metadata": {}
  },
  {
   "source": [
    "## 采用算术编码\n",
    "\n",
    "根据教材可知区间，转化为二进制为"
   ],
   "cell_type": "markdown",
   "metadata": {}
  },
  {
   "cell_type": "code",
   "execution_count": 18,
   "metadata": {},
   "outputs": [
    {
     "output_type": "stream",
     "name": "stdout",
     "text": [
      "0.10000011101011101110011111011111011101111100101000111\n0.100000111010111111011001011101101111111100111010111\n"
     ]
    }
   ],
   "source": [
    "def dec2bin(x):\n",
    "  x -= int(x)\n",
    "  bins = '0.'\n",
    "  while x:\n",
    "    x *= 2\n",
    "    bins+='1' if x>=1. else '0'\n",
    "    x -= int(x)\n",
    "  return bins\n",
    "\n",
    "low=.5143876\n",
    "high=0.514402\n",
    "\n",
    "print(dec2bin(low))\n",
    "print(dec2bin(high))"
   ]
  },
  {
   "source": [
    "转化为二进制后最短可以取0.1000001110101111，及最少需要16个符号"
   ],
   "cell_type": "markdown",
   "metadata": {}
  }
 ]
}