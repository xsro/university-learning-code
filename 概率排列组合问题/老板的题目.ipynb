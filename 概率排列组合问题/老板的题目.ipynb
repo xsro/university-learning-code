{
 "metadata": {
  "language_info": {
   "codemirror_mode": {
    "name": "ipython",
    "version": 3
   },
   "file_extension": ".py",
   "mimetype": "text/x-python",
   "name": "python",
   "nbconvert_exporter": "python",
   "pygments_lexer": "ipython3",
   "version": "3.8.5-final"
  },
  "orig_nbformat": 2,
  "kernelspec": {
   "name": "python3",
   "display_name": "Python 3",
   "language": "python"
  }
 },
 "nbformat": 4,
 "nbformat_minor": 2,
 "cells": [
  {
   "source": [
    "# 向老板提供的一个题目\n",
    "\n",
    "(单选题)甲、乙两个箱子中分别装有不同数量的某种商品,总数不到100件。\n",
    "如果从甲或乙箱子中随机拿出1件这种商品，拿到次品的概率分别为5%和10%。\n",
    "如果将两箱内的商品混合后再随机拿出1件,则拿到次品的概率为6%，\n",
    "从乙箱中随机拿出3件这种商品,均不为次品的概率X在以下哪个范围内?\n",
    "\n",
    "A. X<72%\n",
    "B. 72%<X<81%\n",
    "C. 81%<X<90%\n",
    "D. X >90%\n",
    "\n",
    "正确答案是A。"
   ],
   "cell_type": "markdown",
   "metadata": {}
  },
  {
   "source": [
    "## 分析\n",
    "\n",
    "可以设箱子甲中的商品总数为x，则次品数为0.05x\n",
    "可以设箱子乙中的商品总数为y，则次品数为0.1y\n",
    "则需要满足关系$\\frac{0.05x+0.1y}{x+y}=0.06$即$x=4y$\n",
    "\n",
    "可以列出关系组\n",
    "\n",
    "$$\n",
    "\\begin{cases}\n",
    "   x,0.05x,y,0.1y \\in N \\\\\n",
    "    x+y<100\\\\\n",
    "    x=4y\n",
    "\\end{cases}\n",
    "$$"
   ],
   "cell_type": "markdown",
   "metadata": {}
  },
  {
   "source": [
    "## 遍历所有情况\n",
    "\n",
    "发现只有如下一种情况下可以满足条件，概率为70%\n",
    "\n",
    "$$\n",
    "\\begin{cases}\n",
    "    x=40 \\\\\n",
    "    y=10\n",
    "\\end{cases}\n",
    "$$\n"
   ],
   "cell_type": "markdown",
   "metadata": {}
  },
  {
   "cell_type": "code",
   "execution_count": 1,
   "metadata": {},
   "outputs": [],
   "source": [
    "# 定义函数：求解组合数C_n^k\n",
    "def nchoosek(n,k):\n",
    "    if k == n:\n",
    "        return 1\n",
    "    elif k == 1:\n",
    "        return n\n",
    "    else:\n",
    "        return nchoosek(n-1,k-1)+nchoosek(n-1,k)\n",
    "# 定义函数：判断所给数是否为整数\n",
    "def isInt(num):\n",
    "    return num%1==0"
   ]
  },
  {
   "cell_type": "code",
   "execution_count": 2,
   "metadata": {},
   "outputs": [
    {
     "output_type": "stream",
     "name": "stdout",
     "text": [
      "箱子甲中商品总数40，箱子乙中商品总数10\n从乙箱中随机拿出3件这种商品,均不为次品的概率X=70.00%\n"
     ]
    }
   ],
   "source": [
    "y=1\n",
    "x=4*y\n",
    "while x+y<100:\n",
    "    if isInt(0.05*x) and isInt(0.1*y):\n",
    "        #打印合乎条件的值\n",
    "        print(\"箱子甲中商品总数%d，箱子乙中商品总数%d\" % (x,y))\n",
    "        #计算所求概率\n",
    "        result=nchoosek(0.9*y,3)/nchoosek(y,3)\n",
    "        print (\"从乙箱中随机拿出3件这种商品,均不为次品的概率X=%.2f%%\" % (result*100))\n",
    "    y=y+1\n",
    "    x=4*y"
   ]
  }
 ]
}