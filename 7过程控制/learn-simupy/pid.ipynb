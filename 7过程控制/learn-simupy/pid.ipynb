{
 "cells": [
  {
   "cell_type": "markdown",
   "metadata": {},
   "source": [
    "# 使用simupy来仿真pid控制系统\n",
    "\n",
    "- 代码来自：[示例](https://github.com/simupy/simupy/blob/master/examples/pid.py)\n",
    "- 仓库：<https://github.com/simupy/simupy>\n",
    "- 文档：<https://simupy.readthedocs.io/en/latest/index.html>"
   ]
  },
  {
   "cell_type": "code",
   "execution_count": 1,
   "metadata": {},
   "outputs": [],
   "source": [
    "import numpy as np\n",
    "from scipy import signal, linalg\n",
    "from simupy.systems import LTISystem, SystemFromCallable\n",
    "from simupy.block_diagram import BlockDiagram\n",
    "import matplotlib.pyplot as plt"
   ]
  },
  {
   "cell_type": "markdown",
   "metadata": {},
   "source": [
    "## 创建被控对象"
   ]
  },
  {
   "cell_type": "code",
   "execution_count": 2,
   "metadata": {},
   "outputs": [],
   "source": [
    "# construct second order system state and input matrices\n",
    "m = 1\n",
    "d = 1\n",
    "b = 1\n",
    "k = 1\n",
    "Ac = np.c_[[0, -k/m], [1, -b/m]]\n",
    "Bc = np.r_[0, d/m].reshape(-1, 1)\n",
    "\n",
    "# augment state and input matrices to add integral error state\n",
    "A_aug = np.hstack((np.zeros((3,1)), np.vstack((np.r_[1, 0], Ac))))\n",
    "B_aug = np.hstack(( np.vstack((0, Bc)), -np.eye(3,1)))\n",
    "\n",
    "# construct system\n",
    "aug_sys = LTISystem(A_aug, B_aug,)"
   ]
  },
  {
   "cell_type": "code",
   "execution_count": 3,
   "metadata": {},
   "outputs": [],
   "source": [
    "# construct PID system\n",
    "Kc = 1\n",
    "tau_I = 1\n",
    "tau_D = 1\n",
    "K = -np.r_[Kc/tau_I, Kc, Kc*tau_D].reshape((1,3))\n",
    "pid = LTISystem(K)"
   ]
  },
  {
   "cell_type": "markdown",
   "metadata": {},
   "source": [
    "## 仿真"
   ]
  },
  {
   "cell_type": "code",
   "execution_count": 4,
   "metadata": {},
   "outputs": [
    {
     "data": {
      "image/png": "[encoded data removed]",
      "text/plain": [
       "<Figure size 432x288 with 1 Axes>"
      ]
     },
     "metadata": {
      "needs_background": "light"
     },
     "output_type": "display_data"
    }
   ],
   "source": [
    "# construct reference\n",
    "ref = SystemFromCallable(lambda *args: np.ones(1), 0, 1)\n",
    "\n",
    "# create block diagram\n",
    "BD = BlockDiagram(aug_sys, pid, ref)\n",
    "BD.connect(aug_sys, pid) # PID requires feedback\n",
    "BD.connect(pid, aug_sys, inputs=[0]) # PID output to system control input\n",
    "BD.connect(ref, aug_sys, inputs=[1]) # reference output to system command input\n",
    "\n",
    "res = BD.simulate(10) # simulate\n",
    "# plot\n",
    "plt.figure()\n",
    "plt.plot(res.t, res.y[:, 0], label=r'$\\int x$')\n",
    "plt.plot(res.t, res.y[:, 1], label='$x$')\n",
    "plt.plot(res.t, res.y[:, 2], label=r'$\\dot{x}$')\n",
    "plt.plot(res.t, res.y[:, 3], label='$u$')\n",
    "plt.plot(res.t, res.y[:, 4], label='$x_c$')\n",
    "plt.legend()\n",
    "plt.show()"
   ]
  }
 ],
 "metadata": {
  "interpreter": {
   "hash": "6d9aa104d24f2e4230310d1d391754672047399866da93c12994cea6d05bab46"
  },
  "kernelspec": {
   "display_name": "Python 3.10.0 64-bit ('MCT': conda)",
   "language": "python",
   "name": "python3"
  },
  "language_info": {
   "codemirror_mode": {
    "name": "ipython",
    "version": 3
   },
   "file_extension": ".py",
   "mimetype": "text/x-python",
   "name": "python",
   "nbconvert_exporter": "python",
   "pygments_lexer": "ipython3",
   "version": "3.10.0"
  },
  "orig_nbformat": 4
 },
 "nbformat": 4,
 "nbformat_minor": 2
}
