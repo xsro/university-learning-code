{
 "cells": [
  {
   "cell_type": "markdown",
   "metadata": {},
   "source": [
    "# Dynamic Matrix Control"
   ]
  },
  {
   "cell_type": "markdown",
   "metadata": {},
   "source": [
    "## Question\n",
    "\n",
    "Consider following process with transfer function $G_p(s)$:\n",
    "\n",
    "$$\n",
    "g_p(s)=\\frac\n",
    "{0.5848(-0.3549s+1)}\n",
    "{0.1828s^2+0.8627s+1}\n",
    "$$\n",
    "\n",
    "plot response using DMC with parameters:\n",
    "\n",
    "|$\\Delta t$|N|P|M|\n",
    "|---|---|---|---|\n",
    "|0.1|50|25|1|\n",
    "|0.1|50|10|1|\n",
    "|0.1|50| 8|1|\n",
    "|0.1|50| 7|1|"
   ]
  },
  {
   "cell_type": "code",
   "execution_count": 1,
   "metadata": {},
   "outputs": [],
   "source": [
    "#import packages\n",
    "import numpy as np;\n",
    "import control;\n",
    "import matplotlib.pyplot as plt;"
   ]
  },
  {
   "cell_type": "markdown",
   "metadata": {},
   "source": [
    "## 1 Finite Step Response"
   ]
  },
  {
   "cell_type": "code",
   "execution_count": 2,
   "metadata": {},
   "outputs": [
    {
     "name": "stdout",
     "output_type": "stream",
     "text": [
      "\n",
      "   -0.2076 s + 0.5849\n",
      "-------------------------\n",
      "0.1828 s^2 + 0.8627 s + 1\n",
      "\n"
     ]
    }
   ],
   "source": [
    "num=0.5849*np.array([-0.3549,1.0])\n",
    "den=[0.1828,0.8627,1.0]\n",
    "Gp=control.tf(num,den)\n",
    "print(Gp)"
   ]
  },
  {
   "cell_type": "code",
   "execution_count": 3,
   "metadata": {},
   "outputs": [
    {
     "data": {
      "image/png": "[encoded data removed]",
      "text/plain": [
       "<Figure size 432x288 with 1 Axes>"
      ]
     },
     "metadata": {
      "needs_background": "light"
     },
     "output_type": "display_data"
    }
   ],
   "source": [
    "(T,yout)=control.step_response(Gp)\n",
    "plt.plot(T,yout)\n",
    "plt.xlabel(\"Time (s)\")\n",
    "plt.ylabel(\"Response\")\n",
    "plt.show()"
   ]
  },
  {
   "cell_type": "markdown",
   "metadata": {},
   "source": [
    "## Dynamic Matrix Control"
   ]
  },
  {
   "cell_type": "code",
   "execution_count": 5,
   "metadata": {},
   "outputs": [
    {
     "name": "stdout",
     "output_type": "stream",
     "text": [
      "0 25\n",
      "1 10\n",
      "2 8\n",
      "3 7\n"
     ]
    }
   ],
   "source": [
    "delta_t_list=[0.1,0.1,0.1,0.1]\n",
    "N_list=[50,50,50,50]\n",
    "P_list=[25,10,8,7]\n",
    "M_list=[1,1,1,1]\n",
    "for i in range(0,4):\n",
    "    delta_t=delta_t_list[i]\n",
    "    N=N_list[i]\n",
    "    P=P_list[i]\n",
    "    M=M_list[i]\n",
    "    #TODO"
   ]
  },
  {
   "cell_type": "markdown",
   "metadata": {},
   "source": [
    "## References\n",
    "\n",
    "- Siang Lim.February 2020.[Implementing Dynamic Matrix Control in Python](https://github.com/csianglim/DMC/blob/master/DMC.ipynb)"
   ]
  }
 ],
 "metadata": {
  "interpreter": {
   "hash": "6d9aa104d24f2e4230310d1d391754672047399866da93c12994cea6d05bab46"
  },
  "kernelspec": {
   "display_name": "Python 3.10.0 64-bit ('MCT': conda)",
   "language": "python",
   "name": "python3"
  },
  "language_info": {
   "codemirror_mode": {
    "name": "ipython",
    "version": 3
   },
   "file_extension": ".py",
   "mimetype": "text/x-python",
   "name": "python",
   "nbconvert_exporter": "python",
   "pygments_lexer": "ipython3",
   "version": "3.10.0"
  },
  "orig_nbformat": 4
 },
 "nbformat": 4,
 "nbformat_minor": 2
}
