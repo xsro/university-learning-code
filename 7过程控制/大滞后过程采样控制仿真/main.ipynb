{
 "cells": [
  {
   "cell_type": "markdown",
   "metadata": {},
   "source": [
    "# 大滞后过程采样控制仿真作业\n",
    "\n",
    "被控对象传递函数: \n",
    "\n",
    "$$\n",
    "G_s=\\frac{K}{T\\cdot s +1} e^{-\\tau_0 s}\n",
    "$$\n",
    "\n",
    "$K=10,T=6,\\tau_0=2$。 请在同一个plot 图中绘制采样周期(采样控制间隔)$T_s=1.5，1.8，2.2，2.5$ 四种\n",
    "情况下的闭环采样控制输出响应曲线。"
   ]
  },
  {
   "cell_type": "code",
   "execution_count": 1,
   "metadata": {},
   "outputs": [],
   "source": [
    "import control as co;\n",
    "import matplotlib.pyplot as plt;\n",
    "K=10;\n",
    "T=6;\n",
    "tau0=2;\n",
    "Ts_list=[1.5,1.8,2.2,2.5];"
   ]
  },
  {
   "cell_type": "markdown",
   "metadata": {},
   "source": [
    "## 被控对象建模"
   ]
  },
  {
   "cell_type": "code",
   "execution_count": 2,
   "metadata": {},
   "outputs": [],
   "source": [
    "s=co.tf('s');\n",
    "#currently no method in python-control lib for delay\n",
    "#see https://github.com/python-control/python-control/issues/626\n",
    "delay=co.pade(tau0,4);\n",
    "delay=co.tf(delay[0],delay[1]);\n",
    "Gs0=K/(T*s+1);\n",
    "Gs=Gs0*delay;"
   ]
  },
  {
   "cell_type": "markdown",
   "metadata": {},
   "source": [
    "## 采样控制"
   ]
  },
  {
   "cell_type": "code",
   "execution_count": 3,
   "metadata": {},
   "outputs": [
    {
     "data": {
      "image/png": "[encoded data removed]",
      "text/plain": [
       "<Figure size 432x288 with 1 Axes>"
      ]
     },
     "metadata": {
      "needs_background": "light"
     },
     "output_type": "display_data"
    }
   ],
   "source": [
    "\n",
    "Kp=0.154;\n",
    "Ki=0.0123;\n",
    "plt.figure();\n",
    "for Ts in Ts_list:\n",
    "    Gz=co.c2d(Gs,Ts);\n",
    "    Gcs=co.tf([Kp,Ki],[1,0]);\n",
    "    Gcz=co.c2d(Gcs,Ts);\n",
    "    Phi=co.feedback(co.series(Gcz,Gz),1);\n",
    "    T, yout=co.step_response(Phi);\n",
    "    plt.stairs(yout,label=\"Ts={:.1f}\".format(Ts));\n",
    "plt.xlim([0,40]);\n",
    "plt.legend(loc='lower right');"
   ]
  }
 ],
 "metadata": {
  "interpreter": {
   "hash": "fa8c371554f1d213a709f80b34fb92159a581f65f9df0b0d503fb7bd11d76352"
  },
  "kernelspec": {
   "display_name": "Python 3.9.7 64-bit ('ControlStudy': conda)",
   "language": "python",
   "name": "python3"
  },
  "language_info": {
   "codemirror_mode": {
    "name": "ipython",
    "version": 3
   },
   "file_extension": ".py",
   "mimetype": "text/x-python",
   "name": "python",
   "nbconvert_exporter": "python",
   "pygments_lexer": "ipython3",
   "version": "3.9.7"
  },
  "orig_nbformat": 4
 },
 "nbformat": 4,
 "nbformat_minor": 2
}
